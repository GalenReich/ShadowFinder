{
 "cells": [
  {
   "cell_type": "markdown",
   "metadata": {},
   "source": [
    "# Shadow Finder ☀️🌐\n",
    "\n",
    "A tool to estimate the points on the Earth's surface where a shadow of a particular length could occur, for geolocation purposes.\n",
    "\n",
    "Using an object's height, the lenth of its shadow, the date and the time, this code estimates the possible locations of that shadow.\n",
    "\n",
    "> <font color='#ffc107'>Important:</font> The shadow length must be measured at right angles to the object 📐 This means that you might have to correct for the perspective of an image before using this tool. "
   ]
  },
  {
   "cell_type": "code",
   "execution_count": null,
   "metadata": {},
   "outputs": [],
   "source": [
    "# @title Find a Shadow 🔎 { display-mode: \"form\" }\n",
    "\n",
    "# @markdown ### ⬅️ Click to find possible locations that match the below information (takes around 10 - 20 seconds)\n",
    "\n",
    "# @markdown Object and shadow are measured at right angles in arbitrary units\n",
    "object_height = 10  # @param {type:\"number\"} Height of object in arbitrary units\n",
    "shadow_length = 8  # @param {type:\"number\"} Length of shadow in arbitrary units\n",
    "\n",
    "# @markdown Date and time can be given in UTC or local time (set `time type` accordingly), using the time format hh:mm:ss\n",
    "date = \"2024-02-29\"  # @param {type:\"date\"}\n",
    "time = \"12:00:00\"  # @param {type:\"string\"}\n",
    "time_type = \"utc\" # @param [\"utc\", \"local\"]\n",
    "include_sea_locations = False # @param {type:\"boolean\"}\n",
    "# Create output files\n",
    "output = f\"./shadowfinder_{object_height}_{shadow_length}_{date}T{time}.png\"\n",
    "logfile = f\"./shadowfinder_{object_height}_{shadow_length}_{date}T{time}.log\"\n",
    "\n",
    "# Imports\n",
    "![ ! -f \"deps_loaded\" ] && pip install shadowfinder >> {logfile} 2>&1 && touch deps_loaded\n",
    "\n",
    "from shadowfinder.shadowfinder import ShadowFinder\n",
    "import datetime\n",
    "\n",
    "datetime_date = datetime.datetime.strptime(date, \"%Y-%m-%d\").date()\n",
    "datetime_time = datetime.datetime.strptime(time, \"%H:%M:%S\").time()\n",
    "\n",
    "date_time = datetime.datetime.combine(\n",
    "    datetime_date, datetime_time, tzinfo=datetime.timezone.utc\n",
    ")  # Date and time of interest\n",
    "\n",
    "if \"finder\" not in locals():\n",
    "    finder = ShadowFinder()\n",
    "    # check if timezones.npz exists\n",
    "    try:\n",
    "        finder.load_timezones()\n",
    "    except FileNotFoundError:\n",
    "        finder.generate_lat_lon_grid()\n",
    "        finder.save_timezones()\n",
    "\n",
    "finder.set_details(object_height, shadow_length, date_time, process_sea=include_sea_locations, time_format=time_type)\n",
    "finder.find_shadows()\n",
    "finder.plot_shadows()"
   ]
  },
  {
   "cell_type": "code",
   "execution_count": null,
   "metadata": {},
   "outputs": [],
   "source": []
  }
 ],
 "metadata": {
  "kernelspec": {
   "display_name": ".venv",
   "language": "python",
   "name": "python3"
  },
  "language_info": {
   "codemirror_mode": {
    "name": "ipython",
    "version": 3
   },
   "file_extension": ".py",
   "mimetype": "text/x-python",
   "name": "python",
   "nbconvert_exporter": "python",
   "pygments_lexer": "ipython3",
   "version": "3.12.1"
  }
 },
 "nbformat": 4,
 "nbformat_minor": 2
}
